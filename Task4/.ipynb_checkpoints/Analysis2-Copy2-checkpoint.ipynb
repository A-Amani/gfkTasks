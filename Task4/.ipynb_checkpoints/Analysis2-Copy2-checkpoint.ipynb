{
 "cells": [
  {
   "cell_type": "code",
   "execution_count": 8,
   "metadata": {},
   "outputs": [
    {
     "name": "stdout",
     "output_type": "stream",
     "text": [
      "[222.28587337]\n"
     ]
    }
   ],
   "source": [
    "import pandas as pd\n",
    "import numpy as np\n",
    "\n",
    "x = [1400, 1600, 1700, 1875, 1100, 1550, 2350, 2450, 1425, 1700] # house area in sq-feet\n",
    "y = [245, 312, 279, 308, 199, 219, 405, 324, 319, 255] # price in $1000s\n",
    "\n",
    "from sklearn import linear_model\n",
    "\n",
    "x = np.array(x).reshape(-1, 1)\n",
    "y = np.array(y)\n",
    "\n",
    "regr = linear_model.LinearRegression()\n",
    "\n",
    "regr.fit(x, y)\n",
    "\n",
    "print(regr.predict(np.array(1130).reshape(-1, 1)))"
   ]
  }
 ],
 "metadata": {
  "kernelspec": {
   "display_name": "Python 3",
   "language": "python",
   "name": "python3"
  },
  "language_info": {
   "codemirror_mode": {
    "name": "ipython",
    "version": 3
   },
   "file_extension": ".py",
   "mimetype": "text/x-python",
   "name": "python",
   "nbconvert_exporter": "python",
   "pygments_lexer": "ipython3",
   "version": "3.8.5"
  }
 },
 "nbformat": 4,
 "nbformat_minor": 4
}
