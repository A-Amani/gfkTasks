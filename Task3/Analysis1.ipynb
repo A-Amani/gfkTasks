{
 "cells": [
  {
   "cell_type": "code",
   "execution_count": 57,
   "metadata": {},
   "outputs": [],
   "source": [
    "import pandas as pd\n",
    "import numpy as np"
   ]
  },
  {
   "cell_type": "code",
   "execution_count": 58,
   "metadata": {},
   "outputs": [
    {
     "name": "stdout",
     "output_type": "stream",
     "text": [
      "         id     productgroup  \\\n",
      "0  26229701  WASHINGMACHINES   \n",
      "1  16576864       USB MEMORY   \n",
      "2  26155618       USB MEMORY   \n",
      "3  25646138         BICYCLES   \n",
      "4  19764614         BICYCLES   \n",
      "\n",
      "                                           main_text  \\\n",
      "0                                          WAQ284E25   \n",
      "1  LEEF IBRIDGE MOBILE SPEICHERERWEITERUNG FUER I...   \n",
      "2                     SANDISK 32GB ULTRA FIT USB 3.0   \n",
      "3  HOLLANDRAD DAMEN 28 ZOLL TUSSAUD 3-GAENGE RH 5...   \n",
      "4                   DAHON SPEED D7 SCHWARZ ? FALTRAD   \n",
      "\n",
      "                                   add_text         manufacturer  \n",
      "0                            WASCHMASCHINEN                BOSCH  \n",
      "1  PC__1100COMPUTINGMEMORY__1110MEMORYCARDS                 LEEF  \n",
      "2                                     W1370                  NaN  \n",
      "3             FAHRRAEDER // SPORTFAHRRAEDER  SCHALOW & KROH GMBH  \n",
      "4          SPORTS__30000WHEELED__30070BIKES                DAHON  \n",
      "Index(['id', 'productgroup', 'main_text', 'add_text', 'manufacturer'], dtype='object')\n"
     ]
    }
   ],
   "source": [
    "df = pd.read_csv('./data/testset_C.csv', delimiter=';')\n",
    "\n",
    "print(df.head())\n",
    "print(df.columns)"
   ]
  },
  {
   "cell_type": "code",
   "execution_count": 59,
   "metadata": {},
   "outputs": [
    {
     "name": "stdout",
     "output_type": "stream",
     "text": [
      "['WASHINGMACHINES' 'USB MEMORY' 'BICYCLES' 'CONTACT LENSES']\n"
     ]
    }
   ],
   "source": [
    "print(df.productgroup.unique())\n"
   ]
  },
  {
   "cell_type": "code",
   "execution_count": 60,
   "metadata": {},
   "outputs": [
    {
     "name": "stdout",
     "output_type": "stream",
     "text": [
      "(8000, 5)\n",
      "id                 0\n",
      "productgroup       0\n",
      "main_text          2\n",
      "add_text           0\n",
      "manufacturer    1344\n",
      "dtype: int64\n"
     ]
    }
   ],
   "source": [
    "print(df.shape)\n",
    "print(np.sum(df.isna()))"
   ]
  },
  {
   "cell_type": "code",
   "execution_count": 61,
   "metadata": {},
   "outputs": [
    {
     "data": {
      "text/plain": [
       "USB MEMORY         0.25\n",
       "WASHINGMACHINES    0.25\n",
       "BICYCLES           0.25\n",
       "CONTACT LENSES     0.25\n",
       "Name: productgroup, dtype: float64"
      ]
     },
     "execution_count": 61,
     "metadata": {},
     "output_type": "execute_result"
    }
   ],
   "source": [
    "df.productgroup.value_counts(normalize=True)"
   ]
  },
  {
   "cell_type": "code",
   "execution_count": 62,
   "metadata": {},
   "outputs": [
    {
     "name": "stdout",
     "output_type": "stream",
     "text": [
      "the shape of df after dropping the nan values is (6655, 5)\n"
     ]
    },
    {
     "data": {
      "text/plain": [
       "CONTACT LENSES     0.265515\n",
       "USB MEMORY         0.258753\n",
       "WASHINGMACHINES    0.239820\n",
       "BICYCLES           0.235913\n",
       "Name: productgroup, dtype: float64"
      ]
     },
     "execution_count": 62,
     "metadata": {},
     "output_type": "execute_result"
    }
   ],
   "source": [
    "print(f'the shape of df after dropping the nan values is {df.dropna().shape}')\n",
    "df.dropna().productgroup.value_counts(normalize=True)"
   ]
  },
  {
   "cell_type": "markdown",
   "metadata": {},
   "source": [
    "So eventhough the value count of productgroup after dropna is still acceptable, but since total number of nan in manufacturor is around 17% of the whole dataset, I prefer to keep them and simply fill NAN manufacturors with an empty string"
   ]
  },
  {
   "cell_type": "code",
   "execution_count": 63,
   "metadata": {},
   "outputs": [],
   "source": [
    "df = df.fillna(value='')"
   ]
  },
  {
   "cell_type": "code",
   "execution_count": 64,
   "metadata": {},
   "outputs": [
    {
     "name": "stdout",
     "output_type": "stream",
     "text": [
      "Y.shape is: (8000,)\n",
      "X.shape is: (8000, 1)\n",
      "                                                text\n",
      "0                     WAQ284E25 WASCHMASCHINEN BOSCH\n",
      "1  LEEF IBRIDGE MOBILE SPEICHERERWEITERUNG FUER I...\n",
      "2              SANDISK 32GB ULTRA FIT USB 3.0 W1370 \n",
      "3  HOLLANDRAD DAMEN 28 ZOLL TUSSAUD 3-GAENGE RH 5...\n",
      "4  DAHON SPEED D7 SCHWARZ ? FALTRAD SPORTS__30000...\n"
     ]
    }
   ],
   "source": [
    "df['text'] = df['main_text'] + ' ' + df['add_text'] + ' ' + df['manufacturer']\n",
    "\n",
    "X = df[['text']]\n",
    "Y = df['productgroup']\n",
    "\n",
    "print(f'Y.shape is: {Y.shape}')\n",
    "print(f'X.shape is: {X.shape}')\n",
    "print(X.head())\n"
   ]
  },
  {
   "cell_type": "code",
   "execution_count": null,
   "metadata": {},
   "outputs": [],
   "source": []
  },
  {
   "cell_type": "code",
   "execution_count": 65,
   "metadata": {},
   "outputs": [],
   "source": [
    "from sklearn.compose import ColumnTransformer\n",
    "from sklearn.pipeline import Pipeline\n",
    "from sklearn import preprocessing\n",
    "\n",
    "\n",
    "from sklearn.feature_extraction.text import CountVectorizer\n",
    "from sklearn.feature_extraction.text import TfidfTransformer\n",
    "\n"
   ]
  },
  {
   "cell_type": "code",
   "execution_count": 66,
   "metadata": {},
   "outputs": [],
   "source": [
    "descriptive_features_pipeline = Pipeline(steps=\n",
    "                                       [\n",
    "                                           ('CountVectorizer', CountVectorizer()),\n",
    "                                           ('Tfidf', TfidfTransformer())                                           \n",
    "                                       ]\n",
    "                                      )\n",
    "\n",
    "preprocessing_pipeline = ColumnTransformer(transformers=\n",
    "                                           [\n",
    "                                               ('num',descriptive_features_pipeline, 'text')\n",
    "                                           ]\n",
    "                                          )"
   ]
  },
  {
   "cell_type": "code",
   "execution_count": 67,
   "metadata": {},
   "outputs": [],
   "source": [
    "from sklearn.linear_model import SGDClassifier\n",
    "from sklearn.naive_bayes import MultinomialNB\n",
    "from sklearn.linear_model import LogisticRegression\n",
    "from sklearn.neighbors import KNeighborsClassifier\n",
    "\n",
    "pipe = Pipeline(steps=\n",
    "                [\n",
    "                    ('preprocessor', preprocessing_pipeline),\n",
    "                    #('classifier', SGDClassifier(loss='hinge', penalty='l2', alpha=1e-3, random_state=42, max_iter=5, tol=None))\n",
    "                    ('classifier', LogisticRegression())                    \n",
    "                ]\n",
    "               )\n"
   ]
  },
  {
   "cell_type": "code",
   "execution_count": 68,
   "metadata": {},
   "outputs": [
    {
     "data": {
      "text/html": [
       "<style>div.sk-top-container {color: black;background-color: white;}div.sk-toggleable {background-color: white;}label.sk-toggleable__label {cursor: pointer;display: block;width: 100%;margin-bottom: 0;padding: 0.2em 0.3em;box-sizing: border-box;text-align: center;}div.sk-toggleable__content {max-height: 0;max-width: 0;overflow: hidden;text-align: left;background-color: #f0f8ff;}div.sk-toggleable__content pre {margin: 0.2em;color: black;border-radius: 0.25em;background-color: #f0f8ff;}input.sk-toggleable__control:checked~div.sk-toggleable__content {max-height: 200px;max-width: 100%;overflow: auto;}div.sk-estimator input.sk-toggleable__control:checked~label.sk-toggleable__label {background-color: #d4ebff;}div.sk-label input.sk-toggleable__control:checked~label.sk-toggleable__label {background-color: #d4ebff;}input.sk-hidden--visually {border: 0;clip: rect(1px 1px 1px 1px);clip: rect(1px, 1px, 1px, 1px);height: 1px;margin: -1px;overflow: hidden;padding: 0;position: absolute;width: 1px;}div.sk-estimator {font-family: monospace;background-color: #f0f8ff;margin: 0.25em 0.25em;border: 1px dotted black;border-radius: 0.25em;box-sizing: border-box;}div.sk-estimator:hover {background-color: #d4ebff;}div.sk-parallel-item::after {content: \"\";width: 100%;border-bottom: 1px solid gray;flex-grow: 1;}div.sk-label:hover label.sk-toggleable__label {background-color: #d4ebff;}div.sk-serial::before {content: \"\";position: absolute;border-left: 1px solid gray;box-sizing: border-box;top: 2em;bottom: 0;left: 50%;}div.sk-serial {display: flex;flex-direction: column;align-items: center;background-color: white;}div.sk-item {z-index: 1;}div.sk-parallel {display: flex;align-items: stretch;justify-content: center;background-color: white;}div.sk-parallel-item {display: flex;flex-direction: column;position: relative;background-color: white;}div.sk-parallel-item:first-child::after {align-self: flex-end;width: 50%;}div.sk-parallel-item:last-child::after {align-self: flex-start;width: 50%;}div.sk-parallel-item:only-child::after {width: 0;}div.sk-dashed-wrapped {border: 1px dashed gray;margin: 0.2em;box-sizing: border-box;padding-bottom: 0.1em;background-color: white;position: relative;}div.sk-label label {font-family: monospace;font-weight: bold;background-color: white;display: inline-block;line-height: 1.2em;}div.sk-label-container {position: relative;z-index: 2;text-align: center;}div.sk-container {display: inline-block;position: relative;}</style><div class=\"sk-top-container\"><div class=\"sk-container\"><div class=\"sk-item sk-dashed-wrapped\"><div class=\"sk-label-container\"><div class=\"sk-label sk-toggleable\"><input class=\"sk-toggleable__control sk-hidden--visually\" id=\"d76ad6f6-31d8-4e80-aa6d-e4f0e0e1645b\" type=\"checkbox\" ><label class=\"sk-toggleable__label\" for=\"d76ad6f6-31d8-4e80-aa6d-e4f0e0e1645b\">Pipeline</label><div class=\"sk-toggleable__content\"><pre>Pipeline(steps=[('preprocessor',\n",
       "                 ColumnTransformer(transformers=[('num',\n",
       "                                                  Pipeline(steps=[('CountVectorizer',\n",
       "                                                                   CountVectorizer()),\n",
       "                                                                  ('Tfidf',\n",
       "                                                                   TfidfTransformer())]),\n",
       "                                                  'text')])),\n",
       "                ('classifier', LogisticRegression())])</pre></div></div></div><div class=\"sk-serial\"><div class=\"sk-item sk-dashed-wrapped\"><div class=\"sk-label-container\"><div class=\"sk-label sk-toggleable\"><input class=\"sk-toggleable__control sk-hidden--visually\" id=\"871a2a80-ef3a-48b5-838b-4d009a7da61e\" type=\"checkbox\" ><label class=\"sk-toggleable__label\" for=\"871a2a80-ef3a-48b5-838b-4d009a7da61e\">preprocessor: ColumnTransformer</label><div class=\"sk-toggleable__content\"><pre>ColumnTransformer(transformers=[('num',\n",
       "                                 Pipeline(steps=[('CountVectorizer',\n",
       "                                                  CountVectorizer()),\n",
       "                                                 ('Tfidf',\n",
       "                                                  TfidfTransformer())]),\n",
       "                                 'text')])</pre></div></div></div><div class=\"sk-parallel\"><div class=\"sk-parallel-item\"><div class=\"sk-item\"><div class=\"sk-label-container\"><div class=\"sk-label sk-toggleable\"><input class=\"sk-toggleable__control sk-hidden--visually\" id=\"8f8e60ff-bff2-400c-8383-233be3bfcb04\" type=\"checkbox\" ><label class=\"sk-toggleable__label\" for=\"8f8e60ff-bff2-400c-8383-233be3bfcb04\">num</label><div class=\"sk-toggleable__content\"><pre>text</pre></div></div></div><div class=\"sk-serial\"><div class=\"sk-item\"><div class=\"sk-serial\"><div class=\"sk-item\"><div class=\"sk-estimator sk-toggleable\"><input class=\"sk-toggleable__control sk-hidden--visually\" id=\"4f4d9555-a0cb-4df5-82a4-89e54b0e36df\" type=\"checkbox\" ><label class=\"sk-toggleable__label\" for=\"4f4d9555-a0cb-4df5-82a4-89e54b0e36df\">CountVectorizer</label><div class=\"sk-toggleable__content\"><pre>CountVectorizer()</pre></div></div></div><div class=\"sk-item\"><div class=\"sk-estimator sk-toggleable\"><input class=\"sk-toggleable__control sk-hidden--visually\" id=\"2cd9f0b0-c9be-40c5-a2cf-6c92b38edbee\" type=\"checkbox\" ><label class=\"sk-toggleable__label\" for=\"2cd9f0b0-c9be-40c5-a2cf-6c92b38edbee\">TfidfTransformer</label><div class=\"sk-toggleable__content\"><pre>TfidfTransformer()</pre></div></div></div></div></div></div></div></div></div></div><div class=\"sk-item\"><div class=\"sk-estimator sk-toggleable\"><input class=\"sk-toggleable__control sk-hidden--visually\" id=\"25e88e5d-771c-413b-9223-752da2ce9bf8\" type=\"checkbox\" ><label class=\"sk-toggleable__label\" for=\"25e88e5d-771c-413b-9223-752da2ce9bf8\">LogisticRegression</label><div class=\"sk-toggleable__content\"><pre>LogisticRegression()</pre></div></div></div></div></div></div></div>"
      ],
      "text/plain": [
       "Pipeline(steps=[('preprocessor',\n",
       "                 ColumnTransformer(transformers=[('num',\n",
       "                                                  Pipeline(steps=[('CountVectorizer',\n",
       "                                                                   CountVectorizer()),\n",
       "                                                                  ('Tfidf',\n",
       "                                                                   TfidfTransformer())]),\n",
       "                                                  'text')])),\n",
       "                ('classifier', LogisticRegression())])"
      ]
     },
     "execution_count": 68,
     "metadata": {},
     "output_type": "execute_result"
    }
   ],
   "source": [
    "from sklearn import set_config\n",
    "set_config(display='diagram')\n",
    "# diplays HTML representation in a jupyter context\n",
    "pipe"
   ]
  },
  {
   "cell_type": "code",
   "execution_count": 69,
   "metadata": {},
   "outputs": [
    {
     "name": "stdout",
     "output_type": "stream",
     "text": [
      "(6400, 1)\n"
     ]
    }
   ],
   "source": [
    "from sklearn.model_selection import train_test_split\n",
    "\n",
    "x_train, x_test, y_train, y_test = train_test_split(X,Y, test_size = 0.2)#, stratify=Y)\n",
    "\n",
    "print(x_train.shape)"
   ]
  },
  {
   "cell_type": "code",
   "execution_count": 70,
   "metadata": {},
   "outputs": [
    {
     "name": "stdout",
     "output_type": "stream",
     "text": [
      "model score: 0.998 \n",
      "\n"
     ]
    }
   ],
   "source": [
    "\n",
    "pipe.fit(x_train, y_train)\n",
    "print(\"model score: %.3f \\n\" % pipe.score(x_test, y_test))\n"
   ]
  },
  {
   "cell_type": "code",
   "execution_count": 71,
   "metadata": {},
   "outputs": [
    {
     "name": "stdout",
     "output_type": "stream",
     "text": [
      "                 precision    recall  f1-score   support\n",
      "\n",
      "WASHINGMACHINES       1.00      1.00      1.00       381\n",
      "     USB MEMORY       1.00      1.00      1.00       405\n",
      "       BICYCLES       1.00      1.00      1.00       405\n",
      " CONTACT LENSES       1.00      1.00      1.00       409\n",
      "\n",
      "       accuracy                           1.00      1600\n",
      "      macro avg       1.00      1.00      1.00      1600\n",
      "   weighted avg       1.00      1.00      1.00      1600\n",
      "\n"
     ]
    }
   ],
   "source": [
    "from sklearn import metrics\n",
    "\n",
    "predicted = pipe.predict(x_test)\n",
    "#np.mean(predicted == y_test)\n",
    "\n",
    "print(metrics.classification_report(y_test, predicted, target_names=df.productgroup.unique()))"
   ]
  },
  {
   "cell_type": "code",
   "execution_count": 72,
   "metadata": {},
   "outputs": [
    {
     "data": {
      "text/plain": [
       "array([[380,   0,   0,   1],\n",
       "       [  0, 405,   0,   0],\n",
       "       [  0,   0, 404,   1],\n",
       "       [  1,   0,   0, 408]])"
      ]
     },
     "execution_count": 72,
     "metadata": {},
     "output_type": "execute_result"
    }
   ],
   "source": [
    "metrics.confusion_matrix(y_test, predicted)"
   ]
  },
  {
   "cell_type": "code",
   "execution_count": null,
   "metadata": {},
   "outputs": [],
   "source": []
  },
  {
   "cell_type": "code",
   "execution_count": null,
   "metadata": {},
   "outputs": [],
   "source": []
  }
 ],
 "metadata": {
  "kernelspec": {
   "display_name": "Python 3",
   "language": "python",
   "name": "python3"
  },
  "language_info": {
   "codemirror_mode": {
    "name": "ipython",
    "version": 3
   },
   "file_extension": ".py",
   "mimetype": "text/x-python",
   "name": "python",
   "nbconvert_exporter": "python",
   "pygments_lexer": "ipython3",
   "version": "3.8.5"
  }
 },
 "nbformat": 4,
 "nbformat_minor": 4
}
